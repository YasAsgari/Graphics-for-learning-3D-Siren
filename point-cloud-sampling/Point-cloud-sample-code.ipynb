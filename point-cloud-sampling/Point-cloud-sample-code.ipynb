{
 "cells": [
  {
   "cell_type": "code",
   "execution_count": null,
   "metadata": {},
   "outputs": [],
   "source": [
    "from mesh_to_sdf import sample_sdf_near_surface\n",
    "import trimesh\n",
    "import numpy as np\n",
    "import trimesh\n",
    "from  skimage.measure import *"
   ]
  },
  {
   "cell_type": "code",
   "execution_count": null,
   "metadata": {},
   "outputs": [],
   "source": [
    "def save_point_clouds(string, num_sample):\n",
    "    mesh = trimesh.load(f'{string}.obj')\n",
    "    points, sdf = sample_sdf_near_surface(mesh, number_of_points=num_sample)\n",
    "    np.save(f'{string}-points.npy', points)\n",
    "    np.save(f'{string}-sdf.npy', sdf)"
   ]
  },
  {
   "cell_type": "code",
   "execution_count": null,
   "metadata": {},
   "outputs": [],
   "source": [
    "save_point_clouds('sofa',400000)"
   ]
  },
  {
   "cell_type": "code",
   "execution_count": null,
   "metadata": {},
   "outputs": [],
   "source": [
    "save_point_clouds('cow',400000)"
   ]
  },
  {
   "cell_type": "code",
   "execution_count": null,
   "metadata": {},
   "outputs": [],
   "source": [
    "save_point_clouds('airplane',400000)"
   ]
  }
 ],
 "metadata": {
  "kernelspec": {
   "display_name": "Python 3",
   "language": "python",
   "name": "python3"
  },
  "language_info": {
   "codemirror_mode": {
    "name": "ipython",
    "version": 3
   },
   "file_extension": ".py",
   "mimetype": "text/x-python",
   "name": "python",
   "nbconvert_exporter": "python",
   "pygments_lexer": "ipython3",
   "version": "3.7.1"
  }
 },
 "nbformat": 4,
 "nbformat_minor": 4
}
